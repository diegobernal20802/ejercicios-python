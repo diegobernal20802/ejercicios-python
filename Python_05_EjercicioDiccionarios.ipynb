{
  "nbformat": 4,
  "nbformat_minor": 0,
  "metadata": {
    "colab": {
      "provenance": [],
      "authorship_tag": "ABX9TyPhkcQrJNCCSzxnsMDumWI7",
      "include_colab_link": true
    },
    "kernelspec": {
      "name": "python3",
      "display_name": "Python 3"
    },
    "language_info": {
      "name": "python"
    }
  },
  "cells": [
    {
      "cell_type": "markdown",
      "metadata": {
        "id": "view-in-github",
        "colab_type": "text"
      },
      "source": [
        "<a href=\"https://colab.research.google.com/github/diegobernal20802/ejercicios-python/blob/main/Python_05_EjercicioDiccionarios.ipynb\" target=\"_parent\"><img src=\"https://colab.research.google.com/assets/colab-badge.svg\" alt=\"Open In Colab\"/></a>"
      ]
    },
    {
      "cell_type": "markdown",
      "source": [
        "##CUADERNO 05 PYTHON"
      ],
      "metadata": {
        "id": "eTWePAzMab9v"
      }
    },
    {
      "cell_type": "markdown",
      "source": [
        "*Cuaderno para Manejo de Diccionarios*\n",
        "\n",
        "Juan Diego Bernal Piñeros\n",
        "\n",
        "Cientifico de datos"
      ],
      "metadata": {
        "id": "lfAcYdRjRcjV"
      }
    },
    {
      "cell_type": "markdown",
      "source": [
        "Un diccionario en Python es una estructura de datos que almacena información en pares clave–valor. Para cada clave es única e inmutable (por ejemplo: cadenas, números o tuplas). Cada valor puede ser de cualquier tipo (listas, enteros, otros diccionarios…). Se accede a los valores usando la clave, no la posición (a diferencia de las listas)."
      ],
      "metadata": {
        "id": "F_YlD1-5cvy5"
      }
    },
    {
      "cell_type": "markdown",
      "source": [
        "#Comandos basicos"
      ],
      "metadata": {
        "id": "7hgmqGuNales"
      }
    },
    {
      "cell_type": "code",
      "execution_count": null,
      "metadata": {
        "colab": {
          "base_uri": "https://localhost:8080/"
        },
        "id": "ljHVs0UHRTyJ",
        "outputId": "e347da11-5e41-4d9f-dc91-07592c629835"
      },
      "outputs": [
        {
          "output_type": "execute_result",
          "data": {
            "text/plain": [
              "{'key1': 1,\n",
              " 'key2': '2',\n",
              " 'key3': [3, 3, 3],\n",
              " 'key4': (4, 4, 4),\n",
              " 'key5': 5,\n",
              " (0, 1): 6}"
            ]
          },
          "metadata": {},
          "execution_count": 1
        }
      ],
      "source": [
        "# Crear diccionario\n",
        "Dict = {\"key1\": 1, \"key2\": \"2\", \"key3\": [3, 3, 3], \"key4\": (4, 4, 4), ('key5'): 5, (0, 1): 6}\n",
        "Dict"
      ]
    },
    {
      "cell_type": "code",
      "source": [
        "# Acceder a un valor mediante una llave\n",
        "Dict[\"key1\"]"
      ],
      "metadata": {
        "colab": {
          "base_uri": "https://localhost:8080/"
        },
        "id": "OCCgVSNORsOV",
        "outputId": "4857eaf3-9ce4-451a-ed60-a1ba1ba03f90"
      },
      "execution_count": null,
      "outputs": [
        {
          "output_type": "execute_result",
          "data": {
            "text/plain": [
              "1"
            ]
          },
          "metadata": {},
          "execution_count": 2
        }
      ]
    },
    {
      "cell_type": "code",
      "source": [
        "Dict[(0, 1)]"
      ],
      "metadata": {
        "colab": {
          "base_uri": "https://localhost:8080/"
        },
        "id": "fsOAnf3lRyvV",
        "outputId": "5fd7d489-6b49-443d-d46a-e89db21333e1"
      },
      "execution_count": null,
      "outputs": [
        {
          "output_type": "execute_result",
          "data": {
            "text/plain": [
              "6"
            ]
          },
          "metadata": {},
          "execution_count": 3
        }
      ]
    },
    {
      "cell_type": "code",
      "source": [
        "# Crear un ejemplo de diccionario\n",
        "\n",
        "release_year_dict = {\"Thriller\": \"1982\", \"Back in Black\": \"1980\", \\\n",
        "                    \"The Dark Side of the Moon\": \"1973\", \"The Bodyguard\": \"1992\", \\\n",
        "                    \"Bat Out of Hell\": \"1977\", \"Their Greatest Hits (1971-1975)\": \"1976\", \\\n",
        "                    \"Saturday Night Fever\": \"1977\", \"Rumours\": \"1977\"}\n",
        "release_year_dict"
      ],
      "metadata": {
        "colab": {
          "base_uri": "https://localhost:8080/"
        },
        "id": "m1WSvT2rSGMI",
        "outputId": "526b46a8-51a4-41c1-d690-07117381faa3"
      },
      "execution_count": null,
      "outputs": [
        {
          "output_type": "execute_result",
          "data": {
            "text/plain": [
              "{'Thriller': '1982',\n",
              " 'Back in Black': '1980',\n",
              " 'The Dark Side of the Moon': '1973',\n",
              " 'The Bodyguard': '1992',\n",
              " 'Bat Out of Hell': '1977',\n",
              " 'Their Greatest Hits (1971-1975)': '1976',\n",
              " 'Saturday Night Fever': '1977',\n",
              " 'Rumours': '1977'}"
            ]
          },
          "metadata": {},
          "execution_count": 4
        }
      ]
    },
    {
      "cell_type": "markdown",
      "source": [
        "#Obtener valores"
      ],
      "metadata": {
        "id": "fJlRtn8YaqpM"
      }
    },
    {
      "cell_type": "code",
      "source": [
        "# Obtener valor llave\n",
        "release_year_dict['Rumours']"
      ],
      "metadata": {
        "colab": {
          "base_uri": "https://localhost:8080/",
          "height": 36
        },
        "id": "sK0mwL8rSTJw",
        "outputId": "4691a1f1-28e3-4fb5-cd03-9939d7bd69b0"
      },
      "execution_count": null,
      "outputs": [
        {
          "output_type": "execute_result",
          "data": {
            "text/plain": [
              "'1977'"
            ],
            "application/vnd.google.colaboratory.intrinsic+json": {
              "type": "string"
            }
          },
          "metadata": {},
          "execution_count": 6
        }
      ]
    },
    {
      "cell_type": "code",
      "source": [
        "# Obtener todas la llaves del diccionario\n",
        "release_year_dict.keys()"
      ],
      "metadata": {
        "colab": {
          "base_uri": "https://localhost:8080/"
        },
        "id": "VnyPH0P-Sdv3",
        "outputId": "8abdf890-d89c-44b2-9f57-6161676b55eb"
      },
      "execution_count": null,
      "outputs": [
        {
          "output_type": "execute_result",
          "data": {
            "text/plain": [
              "dict_keys(['Thriller', 'Back in Black', 'The Dark Side of the Moon', 'The Bodyguard', 'Bat Out of Hell', 'Their Greatest Hits (1971-1975)', 'Saturday Night Fever', 'Rumours'])"
            ]
          },
          "metadata": {},
          "execution_count": 7
        }
      ]
    },
    {
      "cell_type": "code",
      "source": [
        "# Obtener todos los valores del diccionario\n",
        "release_year_dict.values()\n"
      ],
      "metadata": {
        "colab": {
          "base_uri": "https://localhost:8080/"
        },
        "id": "MKtyzhoiSmuv",
        "outputId": "e84a7e6c-c0a8-43a1-c730-efc894e735f5"
      },
      "execution_count": null,
      "outputs": [
        {
          "output_type": "execute_result",
          "data": {
            "text/plain": [
              "dict_values(['1982', '1980', '1973', '1992', '1977', '1976', '1977', '1977'])"
            ]
          },
          "metadata": {},
          "execution_count": 8
        }
      ]
    },
    {
      "cell_type": "markdown",
      "source": [
        "#Modificar diccionario"
      ],
      "metadata": {
        "id": "0J3klyhUaw3s"
      }
    },
    {
      "cell_type": "code",
      "source": [
        "# Agregar un valor con su llave\n",
        "release_year_dict['Graduation'] = '2007'\n",
        "release_year_dict"
      ],
      "metadata": {
        "colab": {
          "base_uri": "https://localhost:8080/"
        },
        "id": "4RBYWjzwSwDR",
        "outputId": "40511bf4-23cc-45f9-ec7a-acfe6736b3ab"
      },
      "execution_count": null,
      "outputs": [
        {
          "output_type": "execute_result",
          "data": {
            "text/plain": [
              "{'Thriller': '1982',\n",
              " 'Back in Black': '1980',\n",
              " 'The Dark Side of the Moon': '1973',\n",
              " 'The Bodyguard': '1992',\n",
              " 'Bat Out of Hell': '1977',\n",
              " 'Their Greatest Hits (1971-1975)': '1976',\n",
              " 'Saturday Night Fever': '1977',\n",
              " 'Rumours': '1977',\n",
              " 'Graduation': '2007'}"
            ]
          },
          "metadata": {},
          "execution_count": 9
        }
      ]
    },
    {
      "cell_type": "code",
      "source": [
        "# Borrar entradas\n",
        "del(release_year_dict['Thriller'])\n",
        "del(release_year_dict['Graduation'])\n",
        "release_year_dict"
      ],
      "metadata": {
        "colab": {
          "base_uri": "https://localhost:8080/"
        },
        "id": "bQ_89VszS23J",
        "outputId": "e010e77c-9056-4130-f951-9e8b640cf5f3"
      },
      "execution_count": null,
      "outputs": [
        {
          "output_type": "execute_result",
          "data": {
            "text/plain": [
              "{'Back in Black': '1980',\n",
              " 'The Dark Side of the Moon': '1973',\n",
              " 'The Bodyguard': '1992',\n",
              " 'Bat Out of Hell': '1977',\n",
              " 'Their Greatest Hits (1971-1975)': '1976',\n",
              " 'Saturday Night Fever': '1977',\n",
              " 'Rumours': '1977'}"
            ]
          },
          "metadata": {},
          "execution_count": 10
        }
      ]
    },
    {
      "cell_type": "code",
      "source": [
        "# Verificar si existe la llave\n",
        "'The Bodyguard' in release_year_dict"
      ],
      "metadata": {
        "colab": {
          "base_uri": "https://localhost:8080/"
        },
        "id": "Z3IRBNejS21f",
        "outputId": "ed664b5e-5e97-42b6-8c2f-e5b754f66dc6"
      },
      "execution_count": null,
      "outputs": [
        {
          "output_type": "execute_result",
          "data": {
            "text/plain": [
              "True"
            ]
          },
          "metadata": {},
          "execution_count": 11
        }
      ]
    },
    {
      "cell_type": "markdown",
      "source": [
        "#PRUEBA"
      ],
      "metadata": {
        "id": "E42sDAVoTnYJ"
      }
    },
    {
      "cell_type": "code",
      "source": [
        "soundtrack_dic = {\"The Bodyguard\":\"1992\", \"Saturday Night Fever\":\"1977\"}\n",
        "soundtrack_dic\n",
        "##En el diccionario soundtrack_dict. ¿Cuáles son las llaves?\n",
        "soundtrack_dic.keys()\n",
        "# Las llaves son los datos a la izquierda del ':'\n",
        "##En el diccionario soundtrack_dict. ¿Cuáles son los valores?\n",
        "soundtrack_dic.values()\n",
        "# Los valores son los datos a la derecha del ':'\n",
        "##Crea un diccionario album_sales_dict donde las llaves sean el nombre del disco y los valores la cantidad de ventas en millones.\n",
        "album_sales_dict = {\"Back in Black\":\"50.M\", \"The Bodyguard\":\"50.M\",\"Thriller\":\"65.M\"}\n",
        "album_sales_dict\n",
        "# Diccionario con la ventas en millones\n",
        "##Usa el diccionario para encontrar las ventas totales de Thriller:\n",
        "album_sales_dict['Thriller']\n",
        "# Valor mediante la llaver Thriller\n",
        "##Encuentra los nombres de los discos dentro del diccionario mediante el método keys:\n",
        "album_sales_dict.keys()\n",
        "# Todas las llaves del diccionario creado\n",
        "##Encuentra los records de ventas dentro del diccionario mediante el método values:\n",
        "album_sales_dict.values()\n",
        "# Todos los valores del diccionario creado"
      ],
      "metadata": {
        "colab": {
          "base_uri": "https://localhost:8080/"
        },
        "id": "Pl52qyDQThRR",
        "outputId": "0c62d29a-96e5-445a-8d7e-d241b44e2b8a"
      },
      "execution_count": null,
      "outputs": [
        {
          "output_type": "execute_result",
          "data": {
            "text/plain": [
              "dict_values(['50.M', '50.M', '65.M'])"
            ]
          },
          "metadata": {},
          "execution_count": 19
        }
      ]
    }
  ]
}
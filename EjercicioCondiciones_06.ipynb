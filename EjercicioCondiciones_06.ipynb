{
  "nbformat": 4,
  "nbformat_minor": 0,
  "metadata": {
    "colab": {
      "provenance": [],
      "authorship_tag": "ABX9TyMvfB8TtZ/ol7nMQHf9rEzb",
      "include_colab_link": true
    },
    "kernelspec": {
      "name": "python3",
      "display_name": "Python 3"
    },
    "language_info": {
      "name": "python"
    }
  },
  "cells": [
    {
      "cell_type": "markdown",
      "metadata": {
        "id": "view-in-github",
        "colab_type": "text"
      },
      "source": [
        "<a href=\"https://colab.research.google.com/github/diegobernal20802/ejercicios-python/blob/main/EjercicioCondiciones_06.ipynb\" target=\"_parent\"><img src=\"https://colab.research.google.com/assets/colab-badge.svg\" alt=\"Open In Colab\"/></a>"
      ]
    },
    {
      "cell_type": "markdown",
      "source": [
        "*Manejo de Condiciones*"
      ],
      "metadata": {
        "id": "2UCiF6XjZVz-"
      }
    },
    {
      "cell_type": "code",
      "execution_count": 1,
      "metadata": {
        "colab": {
          "base_uri": "https://localhost:8080/"
        },
        "id": "3fzLj9x7Yh2C",
        "outputId": "ac73e6da-109a-4be5-f18a-fb31cb5bfc6f"
      },
      "outputs": [
        {
          "output_type": "execute_result",
          "data": {
            "text/plain": [
              "False"
            ]
          },
          "metadata": {},
          "execution_count": 1
        }
      ],
      "source": [
        "# Condicion Igual a\n",
        "a = 5\n",
        "a == 6"
      ]
    },
    {
      "cell_type": "code",
      "source": [
        "# Signo Mayor a\n",
        "i = 6\n",
        "i > 5"
      ],
      "metadata": {
        "colab": {
          "base_uri": "https://localhost:8080/"
        },
        "id": "Ho0w46obZyNW",
        "outputId": "ffca2dfe-a389-4844-f9d1-3974fd17f409"
      },
      "execution_count": 2,
      "outputs": [
        {
          "output_type": "execute_result",
          "data": {
            "text/plain": [
              "True"
            ]
          },
          "metadata": {},
          "execution_count": 2
        }
      ]
    },
    {
      "cell_type": "code",
      "source": [
        "# Signo Mayor a\n",
        "i = 2\n",
        "i > 5"
      ],
      "metadata": {
        "colab": {
          "base_uri": "https://localhost:8080/"
        },
        "id": "CJc5r38vZ3pl",
        "outputId": "eed9ce09-cd05-4b31-81e5-e41e5436e930"
      },
      "execution_count": 3,
      "outputs": [
        {
          "output_type": "execute_result",
          "data": {
            "text/plain": [
              "False"
            ]
          },
          "metadata": {},
          "execution_count": 3
        }
      ]
    },
    {
      "cell_type": "code",
      "source": [
        "# Signo de Desigualdad\n",
        "i = 2\n",
        "i != 6"
      ],
      "metadata": {
        "colab": {
          "base_uri": "https://localhost:8080/"
        },
        "id": "3Me2WtnSZ_pN",
        "outputId": "f78efc40-75ce-4eb5-cbd7-c4a2fda8acb8"
      },
      "execution_count": 4,
      "outputs": [
        {
          "output_type": "execute_result",
          "data": {
            "text/plain": [
              "True"
            ]
          },
          "metadata": {},
          "execution_count": 4
        }
      ]
    },
    {
      "cell_type": "code",
      "source": [
        "# Signo de Desigualdad\n",
        "i = 6\n",
        "i != 6"
      ],
      "metadata": {
        "colab": {
          "base_uri": "https://localhost:8080/"
        },
        "id": "ZCQHcf4LaGJ2",
        "outputId": "cb328d68-6e41-4933-cbdc-6061dc113746"
      },
      "execution_count": 5,
      "outputs": [
        {
          "output_type": "execute_result",
          "data": {
            "text/plain": [
              "False"
            ]
          },
          "metadata": {},
          "execution_count": 5
        }
      ]
    },
    {
      "cell_type": "code",
      "source": [
        "# Operador igualdad para comparar cadenas\n",
        "\"ACDC\" == \"Michael Jackson\""
      ],
      "metadata": {
        "colab": {
          "base_uri": "https://localhost:8080/"
        },
        "id": "LQ8GUjs8aJ7v",
        "outputId": "19ca5d91-e06b-4bf8-e804-1e1e31569a4f"
      },
      "execution_count": 6,
      "outputs": [
        {
          "output_type": "execute_result",
          "data": {
            "text/plain": [
              "False"
            ]
          },
          "metadata": {},
          "execution_count": 6
        }
      ]
    },
    {
      "cell_type": "code",
      "source": [
        "# Operador deigualdad para comparar cadenas\n",
        "\"ACDC\" != \"Michael Jackson\""
      ],
      "metadata": {
        "colab": {
          "base_uri": "https://localhost:8080/"
        },
        "id": "KA5VVDloaSM-",
        "outputId": "6e7ef4cd-521d-4f9f-e79c-b0804f5bec54"
      },
      "execution_count": 7,
      "outputs": [
        {
          "output_type": "execute_result",
          "data": {
            "text/plain": [
              "True"
            ]
          },
          "metadata": {},
          "execution_count": 7
        }
      ]
    },
    {
      "cell_type": "code",
      "source": [
        "# Comparar caracteres\n",
        "'B' > 'A'"
      ],
      "metadata": {
        "colab": {
          "base_uri": "https://localhost:8080/"
        },
        "id": "IX01xrpMaW8u",
        "outputId": "5c6f679e-d616-48bd-c05c-ef4fa5470577"
      },
      "execution_count": 8,
      "outputs": [
        {
          "output_type": "execute_result",
          "data": {
            "text/plain": [
              "True"
            ]
          },
          "metadata": {},
          "execution_count": 8
        }
      ]
    },
    {
      "cell_type": "code",
      "source": [
        "# Cada caracter tiene un valor que puede ser comparado, cambia de mayusculas a minusculas\n",
        "'B' > 'a'"
      ],
      "metadata": {
        "colab": {
          "base_uri": "https://localhost:8080/"
        },
        "id": "3vKLyEI0agB_",
        "outputId": "6e3a0b4a-3205-4016-8473-e0d7da76b24c"
      },
      "execution_count": 11,
      "outputs": [
        {
          "output_type": "execute_result",
          "data": {
            "text/plain": [
              "False"
            ]
          },
          "metadata": {},
          "execution_count": 11
        }
      ]
    },
    {
      "cell_type": "code",
      "source": [
        "# La primera se toma en cuenta\n",
        "\n",
        "'BA' > 'AB'"
      ],
      "metadata": {
        "colab": {
          "base_uri": "https://localhost:8080/"
        },
        "id": "w-n1Guqtascv",
        "outputId": "43a6edd3-dfa3-4c65-c75c-9963d4ca77c2"
      },
      "execution_count": 12,
      "outputs": [
        {
          "output_type": "execute_result",
          "data": {
            "text/plain": [
              "True"
            ]
          },
          "metadata": {},
          "execution_count": 12
        }
      ]
    },
    {
      "cell_type": "code",
      "source": [
        "# Condicion if\n",
        "age = 19\n",
        "\n",
        "if age > 18:\n",
        "  # Lo que este en el 'if' es una puerta de entrada a la siguiente linea de codigo\n",
        "    print(\"Puedes pasar\")\n",
        "\n",
        "# Siempre pasa por acá\n",
        "print(\"Muevete\")"
      ],
      "metadata": {
        "colab": {
          "base_uri": "https://localhost:8080/"
        },
        "id": "rHtHLtP9a3sX",
        "outputId": "9bc5a5e5-5f94-464e-cef3-3dfd784be639"
      },
      "execution_count": 15,
      "outputs": [
        {
          "output_type": "stream",
          "name": "stdout",
          "text": [
            "Puedes pasar\n",
            "Muevete\n"
          ]
        }
      ]
    },
    {
      "cell_type": "code",
      "source": [
        "# Condicion else\n",
        "age =17\n",
        "\n",
        "if age > 18:\n",
        "    print(\"Puedes pasar\")\n",
        "else:\n",
        "  # Ofrece una alternativa cuando no puede pasar por el if\n",
        "    print(\"No puedes pasar\")\n",
        "\n",
        "print(\"Muevete\")\n"
      ],
      "metadata": {
        "colab": {
          "base_uri": "https://localhost:8080/"
        },
        "id": "LKEx4-AvbRn4",
        "outputId": "5166f429-f9f4-44ec-da5d-c2d5193e3403"
      },
      "execution_count": 17,
      "outputs": [
        {
          "output_type": "stream",
          "name": "stdout",
          "text": [
            "No puedes pasar\n",
            "Muevete\n"
          ]
        }
      ]
    },
    {
      "cell_type": "code",
      "source": [
        "# Ejemplo de declaracion elif\n",
        "age = 18\n",
        "\n",
        "if age > 18:\n",
        "    print(\"Puedes pasar\")\n",
        "elif age == 18:\n",
        "    print(\"Apenas tienes edad\")\n",
        "else:\n",
        "    print(\"No puedes pasar\")\n",
        "\n",
        "print(\"Muevete\")"
      ],
      "metadata": {
        "colab": {
          "base_uri": "https://localhost:8080/"
        },
        "id": "6J8zQoJob7iy",
        "outputId": "ea778a6c-fea1-42be-ac54-2773bdac899a"
      },
      "execution_count": 18,
      "outputs": [
        {
          "output_type": "stream",
          "name": "stdout",
          "text": [
            "Apenas tienes edad\n",
            "Muevete\n"
          ]
        }
      ]
    },
    {
      "cell_type": "code",
      "source": [
        "# Condicion de ejemplo\n",
        "album_year = 1983\n",
        "album_year = 1985\n",
        "\n",
        "\n",
        "if album_year > 1980:\n",
        "    print(\"Album año mayor a 1980\")\n",
        "\n",
        "print('do something..')"
      ],
      "metadata": {
        "colab": {
          "base_uri": "https://localhost:8080/"
        },
        "id": "tK44dk-OcOkZ",
        "outputId": "8021a913-217b-463c-8ff4-5f7ef2ff5f1b"
      },
      "execution_count": 23,
      "outputs": [
        {
          "output_type": "stream",
          "name": "stdout",
          "text": [
            "Album año mayor a 1980\n",
            "do something..\n"
          ]
        }
      ]
    },
    {
      "cell_type": "code",
      "source": [
        "# And\n",
        "album_year = 1983\n",
        "\n",
        "if (album_year > 1979) and (album_year < 1990):\n",
        "    print(\"Album año entre 1980 y 1989\")\n"
      ],
      "metadata": {
        "colab": {
          "base_uri": "https://localhost:8080/"
        },
        "id": "bppf08nyctWK",
        "outputId": "41f6463a-da37-4b84-e7a3-efbccdccb742"
      },
      "execution_count": 27,
      "outputs": [
        {
          "output_type": "stream",
          "name": "stdout",
          "text": [
            "Album año entre 1980 y 1989\n"
          ]
        }
      ]
    },
    {
      "cell_type": "code",
      "source": [
        "# Or\n",
        "album_year = 1985\n",
        "\n",
        "if (album_year < 1980) or (album_year > 1989):\n",
        "    print(\"Album no es de los 80s\")\n",
        "else:\n",
        "    print(\"Album es de los 80s\")"
      ],
      "metadata": {
        "colab": {
          "base_uri": "https://localhost:8080/"
        },
        "id": "8jobzW4pdITD",
        "outputId": "84282b6b-4002-4daa-8726-023d33638ab5"
      },
      "execution_count": 30,
      "outputs": [
        {
          "output_type": "stream",
          "name": "stdout",
          "text": [
            "Album es de los 80s\n"
          ]
        }
      ]
    },
    {
      "cell_type": "code",
      "source": [
        "# Not\n",
        "album_year = 1983\n",
        "\n",
        "if not (album_year == '1984'):\n",
        "    print (\"Este album no es del año 1984\")"
      ],
      "metadata": {
        "colab": {
          "base_uri": "https://localhost:8080/"
        },
        "id": "mCR1xM56divN",
        "outputId": "3f17ca50-833c-4177-a485-7533e6bc0a8c"
      },
      "execution_count": 32,
      "outputs": [
        {
          "output_type": "stream",
          "name": "stdout",
          "text": [
            "Este album no es del año 1984\n"
          ]
        }
      ]
    },
    {
      "cell_type": "markdown",
      "source": [
        "PRUEBA"
      ],
      "metadata": {
        "id": "_DCdjxDzdvsc"
      }
    },
    {
      "cell_type": "code",
      "source": [
        "album_rating = 8.5\n",
        "if album_rating > 8:\n",
        "    print(\"This album is Amazing!\")\n",
        "elif album_rating <= 8:\n",
        "    print(\"This album is ok\")\n",
        "# Doble verificacion if, elif\n",
        "album_year = 1975\n",
        "\n",
        "if album_year < 1980 or album_year == 1991 or album_year == 1993:\n",
        "    print (album_year)\n",
        "# Triple verificacion or, ==, <"
      ],
      "metadata": {
        "colab": {
          "base_uri": "https://localhost:8080/"
        },
        "id": "t8OxpUdOdtp0",
        "outputId": "114ceaad-df6c-4ebb-afce-7aefff93e052"
      },
      "execution_count": 45,
      "outputs": [
        {
          "output_type": "stream",
          "name": "stdout",
          "text": [
            "This album is Amazing!\n",
            "1975\n"
          ]
        }
      ]
    }
  ]
}
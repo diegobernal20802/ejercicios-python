{
  "nbformat": 4,
  "nbformat_minor": 0,
  "metadata": {
    "colab": {
      "provenance": [],
      "authorship_tag": "ABX9TyN8YhtrwVwM3xgSXpkWEbZd",
      "include_colab_link": true
    },
    "kernelspec": {
      "name": "python3",
      "display_name": "Python 3"
    },
    "language_info": {
      "name": "python"
    }
  },
  "cells": [
    {
      "cell_type": "markdown",
      "metadata": {
        "id": "view-in-github",
        "colab_type": "text"
      },
      "source": [
        "<a href=\"https://colab.research.google.com/github/diegobernal20802/ejercicios-python/blob/main/EjercicioListas_03.ipynb\" target=\"_parent\"><img src=\"https://colab.research.google.com/assets/colab-badge.svg\" alt=\"Open In Colab\"/></a>"
      ]
    },
    {
      "cell_type": "markdown",
      "source": [
        "##CUADERNO 03 PYTHON"
      ],
      "metadata": {
        "id": "OuDZG6TqXdM4"
      }
    },
    {
      "cell_type": "markdown",
      "source": [
        "*Cuaderno para Manejo de listas*\n",
        "\n",
        "Juan Diego Bernal Piñeros\n",
        "\n",
        "Cientifico de datos"
      ],
      "metadata": {
        "id": "rh-SNjTZ-68x"
      }
    },
    {
      "cell_type": "markdown",
      "source": [
        "#Comandos basicos"
      ],
      "metadata": {
        "id": "sLS6D1dBXoCf"
      }
    },
    {
      "cell_type": "code",
      "execution_count": null,
      "metadata": {
        "colab": {
          "base_uri": "https://localhost:8080/"
        },
        "id": "Oe0v9MdF7VrX",
        "outputId": "22d60ed5-cdca-4b96-eef2-593c4ba4ddcd"
      },
      "outputs": [
        {
          "output_type": "execute_result",
          "data": {
            "text/plain": [
              "['Michael', 2, 3.5, 1985]"
            ]
          },
          "metadata": {},
          "execution_count": 1
        }
      ],
      "source": [
        "# Crear lista\n",
        "L = [\"Michael\",2,3.5,1985]\n",
        "L"
      ]
    },
    {
      "cell_type": "code",
      "source": [
        "# Longitud lista\n",
        "len(L)"
      ],
      "metadata": {
        "colab": {
          "base_uri": "https://localhost:8080/"
        },
        "id": "p1AGAvr2_lKC",
        "outputId": "cb93d0f5-6878-4e7f-927b-eb4c16982c6e"
      },
      "execution_count": null,
      "outputs": [
        {
          "output_type": "execute_result",
          "data": {
            "text/plain": [
              "4"
            ]
          },
          "metadata": {},
          "execution_count": 5
        }
      ]
    },
    {
      "cell_type": "markdown",
      "source": [
        "#Indexar"
      ],
      "metadata": {
        "id": "C7Em0_wMX0HW"
      }
    },
    {
      "cell_type": "code",
      "source": [
        "# Se puede indexar de forma positiva y negagita\n",
        "print(' Postive:',L[0],\n",
        "'\\n Negative:' , L[-4]  )"
      ],
      "metadata": {
        "colab": {
          "base_uri": "https://localhost:8080/"
        },
        "id": "KoUfy91p_Q1S",
        "outputId": "f6e2124d-afb9-4eec-d529-e4d2b8f20b0d"
      },
      "execution_count": null,
      "outputs": [
        {
          "output_type": "stream",
          "name": "stdout",
          "text": [
            " Postive: Michael \n",
            " Negative: Michael\n"
          ]
        }
      ]
    },
    {
      "cell_type": "code",
      "source": [
        "L = [\"Michael Jackson\", 10.1,1982,\"MJ\",1]\n",
        "# Secciones\n",
        "L[3:5]"
      ],
      "metadata": {
        "colab": {
          "base_uri": "https://localhost:8080/"
        },
        "id": "vsPJk3A7_tGp",
        "outputId": "d8462d4e-5d46-4fc7-b307-9ba6400812c2"
      },
      "execution_count": null,
      "outputs": [
        {
          "output_type": "execute_result",
          "data": {
            "text/plain": [
              "['MJ', 1]"
            ]
          },
          "metadata": {},
          "execution_count": 6
        }
      ]
    },
    {
      "cell_type": "markdown",
      "source": [
        "#Añadir, editar y borrar"
      ],
      "metadata": {
        "id": "VF4Ih6vzX5VX"
      }
    },
    {
      "cell_type": "code",
      "source": [
        "# Añadir elementos con el metodo extend\n",
        "L = [ \"Michael Jackson\", 10.2]\n",
        "L.extend(['pop', 10])\n",
        "L"
      ],
      "metadata": {
        "colab": {
          "base_uri": "https://localhost:8080/"
        },
        "id": "0Pwg43dz_8ka",
        "outputId": "2764ccbc-0300-4f62-c551-ac59571e3f3a"
      },
      "execution_count": null,
      "outputs": [
        {
          "output_type": "execute_result",
          "data": {
            "text/plain": [
              "['Michael Jackson', 10.2, 'pop', 10]"
            ]
          },
          "metadata": {},
          "execution_count": 7
        }
      ]
    },
    {
      "cell_type": "code",
      "source": [
        "# Append permite añadir elementos como listas anidadas\n",
        "L = [ \"Michael Jackson\", 10.2]\n",
        "L.append(['pop', 10])\n",
        "L"
      ],
      "metadata": {
        "colab": {
          "base_uri": "https://localhost:8080/"
        },
        "id": "oLdGBDJgAIUC",
        "outputId": "bc105313-916e-4086-e706-78ca76032a46"
      },
      "execution_count": null,
      "outputs": [
        {
          "output_type": "execute_result",
          "data": {
            "text/plain": [
              "['Michael Jackson', 10.2, ['pop', 10]]"
            ]
          },
          "metadata": {},
          "execution_count": 9
        }
      ]
    },
    {
      "cell_type": "code",
      "source": [
        "# Cambiar elementos\n",
        "A = [\"disco\", 10, 1.2]\n",
        "print('Antes:', A)\n",
        "A[0] = 'hard rock'\n",
        "print('Despues:', A)"
      ],
      "metadata": {
        "colab": {
          "base_uri": "https://localhost:8080/"
        },
        "id": "MTSGfcQcAYlj",
        "outputId": "2cd926f2-85ab-422b-d56f-41a9a6db4877"
      },
      "execution_count": null,
      "outputs": [
        {
          "output_type": "stream",
          "name": "stdout",
          "text": [
            "Antes: ['disco', 10, 1.2]\n",
            "Despues: ['hard rock', 10, 1.2]\n"
          ]
        }
      ]
    },
    {
      "cell_type": "code",
      "source": [
        "# Borrar elemento\n",
        "print('Antes:', A)\n",
        "del(A[0])\n",
        "print('Despues:', A)"
      ],
      "metadata": {
        "colab": {
          "base_uri": "https://localhost:8080/"
        },
        "id": "yBlnWG-MAyNk",
        "outputId": "57acdf11-7168-416c-b5ee-f57196e17aad"
      },
      "execution_count": null,
      "outputs": [
        {
          "output_type": "stream",
          "name": "stdout",
          "text": [
            "Antes: ['hard rock', 10, 1.2]\n",
            "Despues: [10, 1.2]\n"
          ]
        }
      ]
    },
    {
      "cell_type": "code",
      "source": [
        "# Dividir la cadena por espacios\n",
        "\n",
        "'Hard rock indie'.split()"
      ],
      "metadata": {
        "colab": {
          "base_uri": "https://localhost:8080/"
        },
        "id": "wbjaSrnrA7Fk",
        "outputId": "287e783c-5cf0-44fd-a278-1c0e34f365ee"
      },
      "execution_count": null,
      "outputs": [
        {
          "output_type": "execute_result",
          "data": {
            "text/plain": [
              "['Hard', 'rock', 'indie']"
            ]
          },
          "metadata": {},
          "execution_count": 19
        }
      ]
    },
    {
      "cell_type": "code",
      "source": [
        "# Separar segun un caracter determinado\n",
        "\"a,b,c,dario\".split(',')"
      ],
      "metadata": {
        "colab": {
          "base_uri": "https://localhost:8080/"
        },
        "id": "8UmQRFEeBIpc",
        "outputId": "05acb425-804b-4529-e278-8852e2c81e6d"
      },
      "execution_count": null,
      "outputs": [
        {
          "output_type": "execute_result",
          "data": {
            "text/plain": [
              "['a', 'b', 'c', 'dario']"
            ]
          },
          "metadata": {},
          "execution_count": 21
        }
      ]
    },
    {
      "cell_type": "markdown",
      "source": [
        "#Referencias"
      ],
      "metadata": {
        "id": "u3wuQUeeX-e3"
      }
    },
    {
      "cell_type": "code",
      "source": [
        "# Se puede asignar el valor de una lista igual a otra y ambas hacen referencia a la misma\n",
        "A = [\"hard rock\", 10, 1.2]\n",
        "B = A\n",
        "print('A:', A)\n",
        "print('B:', B)\n",
        "A[0] = 'hard rock indie'\n",
        "print('B:', B)"
      ],
      "metadata": {
        "colab": {
          "base_uri": "https://localhost:8080/"
        },
        "id": "lni8f-piBWRX",
        "outputId": "c60d8653-685b-48bb-c330-c59e60126f2a"
      },
      "execution_count": null,
      "outputs": [
        {
          "output_type": "stream",
          "name": "stdout",
          "text": [
            "A: ['hard rock', 10, 1.2]\n",
            "B: ['hard rock', 10, 1.2]\n",
            "B: ['hard rock indie', 10, 1.2]\n"
          ]
        }
      ]
    },
    {
      "cell_type": "code",
      "source": [
        "# Para que la lista no haga referencia a la mismo y se tengan copias (Clonar)\n",
        "B = A[:]\n",
        "A[0] = 'Jazz'\n",
        "B"
      ],
      "metadata": {
        "colab": {
          "base_uri": "https://localhost:8080/"
        },
        "id": "KuKIPYQeBWP-",
        "outputId": "2cc00a32-412f-49b3-a702-e38b78a2ec02"
      },
      "execution_count": null,
      "outputs": [
        {
          "output_type": "execute_result",
          "data": {
            "text/plain": [
              "['hard rock indie', 10, 1.2]"
            ]
          },
          "metadata": {},
          "execution_count": 30
        }
      ]
    },
    {
      "cell_type": "markdown",
      "source": [
        "#PRUEBA"
      ],
      "metadata": {
        "id": "Or3LmnAaCwdR"
      }
    },
    {
      "cell_type": "code",
      "source": [
        "##Crea una lista a_lit con los siguientes elementos 1, hello, [1,2,3] y True.\n",
        "a_lit = [1, \"hello\", [1,2,3],True]\n",
        "a_lit\n",
        "# Lista con lista anidada creada\n",
        "##Encuentra el valor almacenado en el índice 1 de a_list.\n",
        "a_lit[1]\n",
        "# Indice 1 de la lista a_lit\n",
        "##Obtén el elemento almacenado en el índice 1, 2 y 3 de a_list.\n",
        "a_lit[1:4]\n",
        "# Seccion del indice 1 al 4\n",
        "##Concatena las siguientes listas A = [1, 'a'] y B = [2, 1, 'd']:\n",
        "A = [1,'a']\n",
        "B = [2,1,'d']\n",
        "A + B\n",
        "# Listas concatenadas"
      ],
      "metadata": {
        "colab": {
          "base_uri": "https://localhost:8080/"
        },
        "id": "gYhGEZfRCgDo",
        "outputId": "4b74d2f5-900b-4c8b-f1f5-7ad3be286a59"
      },
      "execution_count": null,
      "outputs": [
        {
          "output_type": "execute_result",
          "data": {
            "text/plain": [
              "[1, 'a', 2, 1, 'd']"
            ]
          },
          "metadata": {},
          "execution_count": 39
        }
      ]
    },
    {
      "cell_type": "code",
      "source": [],
      "metadata": {
        "id": "zmgxox9iC72o"
      },
      "execution_count": null,
      "outputs": []
    }
  ]
}
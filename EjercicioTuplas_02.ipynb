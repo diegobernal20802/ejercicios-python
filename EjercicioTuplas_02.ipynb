{
  "nbformat": 4,
  "nbformat_minor": 0,
  "metadata": {
    "colab": {
      "provenance": [],
      "authorship_tag": "ABX9TyOhbLATIvmmy3s69D6nYiWI",
      "include_colab_link": true
    },
    "kernelspec": {
      "name": "python3",
      "display_name": "Python 3"
    },
    "language_info": {
      "name": "python"
    }
  },
  "cells": [
    {
      "cell_type": "markdown",
      "metadata": {
        "id": "view-in-github",
        "colab_type": "text"
      },
      "source": [
        "<a href=\"https://colab.research.google.com/github/diegobernal20802/ejercicios-python/blob/main/EjercicioTuplas_02.ipynb\" target=\"_parent\"><img src=\"https://colab.research.google.com/assets/colab-badge.svg\" alt=\"Open In Colab\"/></a>"
      ]
    },
    {
      "cell_type": "markdown",
      "source": [
        "*Manejo de Tuplas*"
      ],
      "metadata": {
        "id": "lD6mL3f2xNY2"
      }
    },
    {
      "cell_type": "code",
      "execution_count": 6,
      "metadata": {
        "id": "Mafw2jfbwvUE",
        "colab": {
          "base_uri": "https://localhost:8080/"
        },
        "outputId": "3e0e5415-9859-4f9a-99cb-defbfa0d0d5f"
      },
      "outputs": [
        {
          "output_type": "execute_result",
          "data": {
            "text/plain": [
              "(1, 2, 3, 4, 5)"
            ]
          },
          "metadata": {},
          "execution_count": 6
        }
      ],
      "source": [
        "# Crear tupla\n",
        "tupla = (1, 2, 3, 4, 5)\n",
        "tupla"
      ]
    },
    {
      "cell_type": "code",
      "source": [
        "# Imprime el tipo de dato de la tupla\n",
        "type(tupla)"
      ],
      "metadata": {
        "colab": {
          "base_uri": "https://localhost:8080/"
        },
        "id": "k9gw91oGyd4w",
        "outputId": "9523f11f-a539-4a9f-c144-7d7e37eaaf6a"
      },
      "execution_count": 7,
      "outputs": [
        {
          "output_type": "execute_result",
          "data": {
            "text/plain": [
              "tuple"
            ]
          },
          "metadata": {},
          "execution_count": 7
        }
      ]
    },
    {
      "cell_type": "code",
      "source": [
        "# Se puede imprimir la variabla que se encuentre en cada indice de la tupla\n",
        "print(tupla[2])\n",
        "print(tupla[3])\n",
        "print(tupla[4])\n",
        "print(tupla[1])\n",
        "print(tupla[0])\n"
      ],
      "metadata": {
        "colab": {
          "base_uri": "https://localhost:8080/"
        },
        "id": "QlDqLclsyru5",
        "outputId": "b59247d1-6a94-44f5-d6ac-e8caecc97bc2"
      },
      "execution_count": 9,
      "outputs": [
        {
          "output_type": "stream",
          "name": "stdout",
          "text": [
            "3\n",
            "4\n",
            "5\n",
            "2\n",
            "1\n"
          ]
        }
      ]
    },
    {
      "cell_type": "code",
      "source": [
        "# Como cada valor en el indice de la tupla tiene un tipo, se puede imprimir\n",
        "print(type(tupla[0]))\n"
      ],
      "metadata": {
        "colab": {
          "base_uri": "https://localhost:8080/"
        },
        "id": "0l7DCbNZzHKK",
        "outputId": "0f9440cd-82e9-4cb3-ca05-2eec40b6f947"
      },
      "execution_count": 10,
      "outputs": [
        {
          "output_type": "stream",
          "name": "stdout",
          "text": [
            "<class 'int'>\n"
          ]
        }
      ]
    },
    {
      "cell_type": "code",
      "source": [
        "# Usar el valor negativo para obtener el ultimo elemento\n",
        "tupla[-1]"
      ],
      "metadata": {
        "colab": {
          "base_uri": "https://localhost:8080/"
        },
        "id": "Nd26vS1gzWrr",
        "outputId": "0fcedc2d-53ac-4967-c4d0-98a33530278f"
      },
      "execution_count": 13,
      "outputs": [
        {
          "output_type": "execute_result",
          "data": {
            "text/plain": [
              "5"
            ]
          },
          "metadata": {},
          "execution_count": 13
        }
      ]
    },
    {
      "cell_type": "code",
      "source": [
        "# Usar el valor negativo para obtener el penultimo elemento\n",
        "tupla[-2]"
      ],
      "metadata": {
        "colab": {
          "base_uri": "https://localhost:8080/"
        },
        "id": "zMRCRhxuzWqK",
        "outputId": "53fa5f5a-fe19-4e4b-d639-48868d7c0b28"
      },
      "execution_count": 14,
      "outputs": [
        {
          "output_type": "execute_result",
          "data": {
            "text/plain": [
              "4"
            ]
          },
          "metadata": {},
          "execution_count": 14
        }
      ]
    },
    {
      "cell_type": "code",
      "source": [
        "# Usar el valor negativo para obtener el antepenultimo elemento\n",
        "tupla[-3]"
      ],
      "metadata": {
        "colab": {
          "base_uri": "https://localhost:8080/"
        },
        "id": "DUPbcCGlzn6G",
        "outputId": "f473c782-f303-44e8-8cba-275616ee8038"
      },
      "execution_count": 15,
      "outputs": [
        {
          "output_type": "execute_result",
          "data": {
            "text/plain": [
              "3"
            ]
          },
          "metadata": {},
          "execution_count": 15
        }
      ]
    },
    {
      "cell_type": "code",
      "source": [
        "# Concatenar dos tuplas\n",
        "tupla2 = tupla + (\"Michael\", 7.5 , 8)\n",
        "tupla2"
      ],
      "metadata": {
        "colab": {
          "base_uri": "https://localhost:8080/"
        },
        "id": "4M3fY9Yvzn4b",
        "outputId": "f23ce1b2-64da-4ea6-9428-465b4bea9bf6"
      },
      "execution_count": 16,
      "outputs": [
        {
          "output_type": "execute_result",
          "data": {
            "text/plain": [
              "(1, 2, 3, 4, 5, 'Michael', 7.5, 8)"
            ]
          },
          "metadata": {},
          "execution_count": 16
        }
      ]
    },
    {
      "cell_type": "code",
      "source": [
        "# Slice en tuplas\n",
        "tupla2[4:7]"
      ],
      "metadata": {
        "colab": {
          "base_uri": "https://localhost:8080/"
        },
        "id": "3A71WAN_2w4Y",
        "outputId": "d719e1f7-f254-40a6-9985-759fc25f73e7"
      },
      "execution_count": 19,
      "outputs": [
        {
          "output_type": "execute_result",
          "data": {
            "text/plain": [
              "(5, 'Michael', 7.5)"
            ]
          },
          "metadata": {},
          "execution_count": 19
        }
      ]
    },
    {
      "cell_type": "code",
      "source": [
        "# Longitud de la tupla\n",
        "len(tupla2)"
      ],
      "metadata": {
        "colab": {
          "base_uri": "https://localhost:8080/"
        },
        "id": "g-BBix2v288B",
        "outputId": "a2a7ac8c-4f4c-41fc-b913-9477502ffb24"
      },
      "execution_count": 20,
      "outputs": [
        {
          "output_type": "execute_result",
          "data": {
            "text/plain": [
              "8"
            ]
          },
          "metadata": {},
          "execution_count": 20
        }
      ]
    },
    {
      "cell_type": "code",
      "source": [
        "Ratings = (0, 9, 6, 5, 10, 8, 9, 6, 2)\n",
        "\n",
        "# Ordenar tupla\n",
        "RatingsSorted = sorted(Ratings)\n",
        "RatingsSorted"
      ],
      "metadata": {
        "colab": {
          "base_uri": "https://localhost:8080/"
        },
        "id": "xAUCbSNC3IrB",
        "outputId": "a76cf871-56e4-4e34-f7c7-65441ac1f791"
      },
      "execution_count": 21,
      "outputs": [
        {
          "output_type": "execute_result",
          "data": {
            "text/plain": [
              "[0, 2, 5, 6, 6, 8, 9, 9, 10]"
            ]
          },
          "metadata": {},
          "execution_count": 21
        }
      ]
    },
    {
      "cell_type": "code",
      "source": [
        "# Tupla anindada\n",
        "AT = (1, 2, (\"pop\", \"rock\"), (3, 4), (\"disco\", (1, 2)))\n",
        "AT"
      ],
      "metadata": {
        "colab": {
          "base_uri": "https://localhost:8080/"
        },
        "id": "JtFdxTHS3REZ",
        "outputId": "a1d49598-ab52-48be-a94f-cc4e0efd0e5f"
      },
      "execution_count": 22,
      "outputs": [
        {
          "output_type": "execute_result",
          "data": {
            "text/plain": [
              "(1, 2, ('pop', 'rock'), (3, 4), ('disco', (1, 2)))"
            ]
          },
          "metadata": {},
          "execution_count": 22
        }
      ]
    },
    {
      "cell_type": "code",
      "source": [
        "len(AT)\n"
      ],
      "metadata": {
        "colab": {
          "base_uri": "https://localhost:8080/"
        },
        "id": "2iay5Rr93nOz",
        "outputId": "00ce5d08-b371-4020-ef06-b92a27026777"
      },
      "execution_count": 23,
      "outputs": [
        {
          "output_type": "execute_result",
          "data": {
            "text/plain": [
              "5"
            ]
          },
          "metadata": {},
          "execution_count": 23
        }
      ]
    },
    {
      "cell_type": "code",
      "source": [
        "# Impimir cada elemento de la tupla anidada\n",
        "print(\"Elemento 0 de la tupla: \", AT[0])\n",
        "print(\"Elemento 1 de la tupla: \", AT[1])\n",
        "print(\"Elemento 2 de la tupla: \", AT[2])\n",
        "print(\"Elemento 3 de la tupla: \", AT[3])\n",
        "print(\"Elemento 4 de la tupla: \", AT[4])"
      ],
      "metadata": {
        "colab": {
          "base_uri": "https://localhost:8080/"
        },
        "id": "g34p0eNd3ahJ",
        "outputId": "eb640c53-d455-4674-d542-a2f64ff5af82"
      },
      "execution_count": 24,
      "outputs": [
        {
          "output_type": "stream",
          "name": "stdout",
          "text": [
            "Elemento 0 de la tupla:  1\n",
            "Elemento 1 de la tupla:  2\n",
            "Elemento 2 de la tupla:  ('pop', 'rock')\n",
            "Elemento 3 de la tupla:  (3, 4)\n",
            "Elemento 4 de la tupla:  ('disco', (1, 2))\n"
          ]
        }
      ]
    },
    {
      "cell_type": "code",
      "source": [
        "# Imprimir elemento especificad de la tupla anidada\n",
        "print(\"Elemento 2, 0 de la tupla: \", AT[2][0])\n",
        "print(\"Elemento 2, 1 de la tupla: \", AT[2][1])\n",
        "print(\"Elemento 3, 0 de la tupla: \", AT[3][0])\n",
        "print(\"Elemento 3, 1 de la tupla: \", AT[3][1])\n",
        "print(\"Elemento 4, 0 de la tupla: \", AT[4][0])\n",
        "print(\"Elemento 4, 1, 0 de la tupla: \", AT[4][1][0])"
      ],
      "metadata": {
        "colab": {
          "base_uri": "https://localhost:8080/"
        },
        "id": "JGv_ThFA3yti",
        "outputId": "d2ab0cde-921c-4dfa-96a0-bd9e3d29b9a9"
      },
      "execution_count": 29,
      "outputs": [
        {
          "output_type": "stream",
          "name": "stdout",
          "text": [
            "Elemento 2, 0 de la tupla:  pop\n",
            "Elemento 2, 1 de la tupla:  rock\n",
            "Elemento 3, 0 de la tupla:  3\n",
            "Elemento 3, 1 de la tupla:  4\n",
            "Elemento 4, 0 de la tupla:  disco\n",
            "Elemento 4, 1, 0 de la tupla:  1\n"
          ]
        }
      ]
    },
    {
      "cell_type": "code",
      "source": [
        "# Caracteres de la tupla aniadada\n",
        "AT[2][1][0]"
      ],
      "metadata": {
        "colab": {
          "base_uri": "https://localhost:8080/",
          "height": 36
        },
        "id": "tSNt3r3N4jJ8",
        "outputId": "e74d21b5-c4a3-4722-8ee3-496323eddf10"
      },
      "execution_count": 33,
      "outputs": [
        {
          "output_type": "execute_result",
          "data": {
            "text/plain": [
              "'r'"
            ],
            "application/vnd.google.colaboratory.intrinsic+json": {
              "type": "string"
            }
          },
          "metadata": {},
          "execution_count": 33
        }
      ]
    },
    {
      "cell_type": "markdown",
      "source": [
        "PRUEBA"
      ],
      "metadata": {
        "id": "T9IxBvs75EK1"
      }
    },
    {
      "cell_type": "code",
      "source": [
        "genres_tuple = (\"pop\", \"rock\", \"soul\", \"hard rock\", \"soft rock\", \\\n",
        "                \"R&B\", \"progressive rock\", \"disco\")\n",
        "len(genres_tuple)\n",
        "# Longitud de genres_tuple\n",
        "genres_tuple[3]\n",
        "# Indice de la tupla\n",
        "genres_tuple[3:6]\n",
        "# Seccion de la tupla\n",
        "genres_tuple[0:2]\n",
        "# Seccion inicial de la tupla\n",
        "genres_tuple.index(\"disco\")\n",
        "# Indice del genero \"disco\"\n",
        "C_tuple=(-5, 1, -3)\n",
        "C_Sorted = sorted(C_tuple)\n",
        "C_Sorted\n",
        "# Tupla ordenada"
      ],
      "metadata": {
        "colab": {
          "base_uri": "https://localhost:8080/"
        },
        "id": "ErC6Qye148hk",
        "outputId": "b7bd649b-b717-48b4-8ad8-9f72db537077"
      },
      "execution_count": 43,
      "outputs": [
        {
          "output_type": "execute_result",
          "data": {
            "text/plain": [
              "[-5, -3, 1]"
            ]
          },
          "metadata": {},
          "execution_count": 43
        }
      ]
    },
    {
      "cell_type": "code",
      "source": [],
      "metadata": {
        "id": "QoVvyjSw48f1"
      },
      "execution_count": null,
      "outputs": []
    }
  ]
}
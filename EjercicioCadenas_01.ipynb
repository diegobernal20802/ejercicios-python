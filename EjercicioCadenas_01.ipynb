{
  "nbformat": 4,
  "nbformat_minor": 0,
  "metadata": {
    "colab": {
      "provenance": [],
      "authorship_tag": "ABX9TyO83EZihG06RyxfT6R5HZ5g",
      "include_colab_link": true
    },
    "kernelspec": {
      "name": "python3",
      "display_name": "Python 3"
    },
    "language_info": {
      "name": "python"
    }
  },
  "cells": [
    {
      "cell_type": "markdown",
      "metadata": {
        "id": "view-in-github",
        "colab_type": "text"
      },
      "source": [
        "<a href=\"https://colab.research.google.com/github/diegobernal20802/ejercicios-python/blob/main/EjercicioCadenas_01.ipynb\" target=\"_parent\"><img src=\"https://colab.research.google.com/assets/colab-badge.svg\" alt=\"Open In Colab\"/></a>"
      ]
    },
    {
      "cell_type": "markdown",
      "source": [
        "##CUADERNO 01 PYTHON"
      ],
      "metadata": {
        "id": "PAGnFVpkyZRw"
      }
    },
    {
      "cell_type": "markdown",
      "source": [
        "*Cuaderno para Manejo de datos tipo String*"
      ],
      "metadata": {
        "id": "zDKVcn1Jh07Y"
      }
    },
    {
      "cell_type": "markdown",
      "source": [
        "#Declarar variables"
      ],
      "metadata": {
        "id": "URuMwuKm3J2A"
      }
    },
    {
      "cell_type": "code",
      "execution_count": null,
      "metadata": {
        "colab": {
          "base_uri": "https://localhost:8080/",
          "height": 36
        },
        "id": "BnUKsLLVhAyL",
        "outputId": "2d797190-d299-4eef-cf27-93bf42b1ed7f"
      },
      "outputs": [
        {
          "output_type": "execute_result",
          "data": {
            "text/plain": [
              "'Michale Jackson'"
            ],
            "application/vnd.google.colaboratory.intrinsic+json": {
              "type": "string"
            }
          },
          "metadata": {},
          "execution_count": 1
        }
      ],
      "source": [
        "# Se usan comillas dobles para definir un dato del tipo String\n",
        "\"Michale Jackson\""
      ]
    },
    {
      "cell_type": "code",
      "source": [
        "# Se pueden usar comillas simples\n",
        "'Michale Jackson'"
      ],
      "metadata": {
        "colab": {
          "base_uri": "https://localhost:8080/",
          "height": 36
        },
        "id": "j2-okCryjXBL",
        "outputId": "ab1564e8-8086-486b-afef-241a34f495ba"
      },
      "execution_count": null,
      "outputs": [
        {
          "output_type": "execute_result",
          "data": {
            "text/plain": [
              "'Michale Jackson'"
            ],
            "application/vnd.google.colaboratory.intrinsic+json": {
              "type": "string"
            }
          },
          "metadata": {},
          "execution_count": 2
        }
      ]
    },
    {
      "cell_type": "code",
      "source": [
        "# Se pueden usar espacios y digitos\n",
        "'1 2 3 4 5'"
      ],
      "metadata": {
        "colab": {
          "base_uri": "https://localhost:8080/",
          "height": 36
        },
        "id": "Rf9iuPOQjW4U",
        "outputId": "509813db-5cfb-4bf2-f2ca-2642acd5e4ad"
      },
      "execution_count": null,
      "outputs": [
        {
          "output_type": "execute_result",
          "data": {
            "text/plain": [
              "'1 2 3 4 5'"
            ],
            "application/vnd.google.colaboratory.intrinsic+json": {
              "type": "string"
            }
          },
          "metadata": {},
          "execution_count": 3
        }
      ]
    },
    {
      "cell_type": "code",
      "source": [
        "# Se pueden usar caracteres especiales\n",
        "'!@#$%^&*()'"
      ],
      "metadata": {
        "colab": {
          "base_uri": "https://localhost:8080/",
          "height": 36
        },
        "id": "GbY4ST53jlYD",
        "outputId": "30b8c92d-d1e3-4b19-ff9d-d6f4b74af1b8"
      },
      "execution_count": null,
      "outputs": [
        {
          "output_type": "execute_result",
          "data": {
            "text/plain": [
              "'!@#$%^&*()'"
            ],
            "application/vnd.google.colaboratory.intrinsic+json": {
              "type": "string"
            }
          },
          "metadata": {},
          "execution_count": 4
        }
      ]
    },
    {
      "cell_type": "code",
      "source": [
        "# Para imprimir una cadeda se usa print()\n",
        "print('Hola Mundo')\n"
      ],
      "metadata": {
        "colab": {
          "base_uri": "https://localhost:8080/"
        },
        "id": "_ueNlQhpjyfj",
        "outputId": "68e12596-bede-4ecd-ee3a-e9df6c526bdf"
      },
      "execution_count": null,
      "outputs": [
        {
          "output_type": "stream",
          "name": "stdout",
          "text": [
            "Hola Mundo\n"
          ]
        }
      ]
    },
    {
      "cell_type": "code",
      "source": [
        "# Se puede asignar una cadena a una variable\n",
        "Name = 'Michael Jackson'\n",
        "Name"
      ],
      "metadata": {
        "colab": {
          "base_uri": "https://localhost:8080/",
          "height": 36
        },
        "id": "IQgvFdi-j651",
        "outputId": "68780e08-9814-4df1-f134-4aa4800775c5"
      },
      "execution_count": null,
      "outputs": [
        {
          "output_type": "execute_result",
          "data": {
            "text/plain": [
              "'Michael Jackson'"
            ],
            "application/vnd.google.colaboratory.intrinsic+json": {
              "type": "string"
            }
          },
          "metadata": {},
          "execution_count": 25
        }
      ]
    },
    {
      "cell_type": "markdown",
      "source": [
        "#Indexación"
      ],
      "metadata": {
        "id": "XvTGJOIqykxw"
      }
    },
    {
      "cell_type": "markdown",
      "source": [
        "Cada caracter de la cadena tiene una posicion o indice que permite imprimir el carcter de forma individual. (Empiezan desde 0)"
      ],
      "metadata": {
        "id": "hHHYKXbokXnG"
      }
    },
    {
      "cell_type": "code",
      "source": [
        "# Imprimir elementos de una cadena\n",
        "print(Name[0])"
      ],
      "metadata": {
        "colab": {
          "base_uri": "https://localhost:8080/"
        },
        "id": "DTqImhVokPS1",
        "outputId": "0f993b58-66b7-45f9-cb57-024651fd8c00"
      },
      "execution_count": null,
      "outputs": [
        {
          "output_type": "stream",
          "name": "stdout",
          "text": [
            "M\n"
          ]
        }
      ]
    },
    {
      "cell_type": "code",
      "source": [
        "# Imprimir el elemento 6\n",
        "print(Name[6])"
      ],
      "metadata": {
        "colab": {
          "base_uri": "https://localhost:8080/"
        },
        "id": "yWizFHiXkf5d",
        "outputId": "9d8f7843-0514-4fbf-c92a-997e14bdf930"
      },
      "execution_count": null,
      "outputs": [
        {
          "output_type": "stream",
          "name": "stdout",
          "text": [
            "l\n"
          ]
        }
      ]
    },
    {
      "cell_type": "markdown",
      "source": [
        "Usando el singo '-' se puede indexar desde el final de la cadena"
      ],
      "metadata": {
        "id": "GUGwd61RlB6e"
      }
    },
    {
      "cell_type": "code",
      "source": [
        "# Imprimir el ultimo elemento de la cadena\n",
        "print(Name[-1])"
      ],
      "metadata": {
        "colab": {
          "base_uri": "https://localhost:8080/"
        },
        "id": "LrvwXYV1k3pV",
        "outputId": "89ce055b-22f1-4f83-e437-a53a6be782f3"
      },
      "execution_count": null,
      "outputs": [
        {
          "output_type": "stream",
          "name": "stdout",
          "text": [
            "n\n"
          ]
        }
      ]
    },
    {
      "cell_type": "code",
      "source": [
        "# Imprimir el primer elemento de la cadena (asumiendo que sabemos cuando caracteres tiene)\n",
        "print(Name[-15])"
      ],
      "metadata": {
        "colab": {
          "base_uri": "https://localhost:8080/"
        },
        "id": "5meNspvNlLt2",
        "outputId": "201ea8f5-814d-4297-87bf-f81d1897dfb5"
      },
      "execution_count": null,
      "outputs": [
        {
          "output_type": "stream",
          "name": "stdout",
          "text": [
            "M\n"
          ]
        }
      ]
    },
    {
      "cell_type": "code",
      "source": [
        "# Encontrar la longitud de la cadena (si se intenta indexar un cadena con una posicion o indice fuera de la longitud, no va a funcionar)\n",
        "len('Michael Jackson')"
      ],
      "metadata": {
        "colab": {
          "base_uri": "https://localhost:8080/"
        },
        "id": "WQfcZqCElc62",
        "outputId": "a95fcbed-5eb7-4d0a-91e7-fda61ff73d8a"
      },
      "execution_count": null,
      "outputs": [
        {
          "output_type": "execute_result",
          "data": {
            "text/plain": [
              "15"
            ]
          },
          "metadata": {},
          "execution_count": 28
        }
      ]
    },
    {
      "cell_type": "code",
      "source": [
        "# Encontrar la longitud de la cadena\n",
        "len(Name)"
      ],
      "metadata": {
        "colab": {
          "base_uri": "https://localhost:8080/"
        },
        "id": "mp64VXBVmApw",
        "outputId": "57ebac3f-60e6-4f9a-bea8-7a105c6f0b2d"
      },
      "execution_count": null,
      "outputs": [
        {
          "output_type": "execute_result",
          "data": {
            "text/plain": [
              "15"
            ]
          },
          "metadata": {},
          "execution_count": 29
        }
      ]
    },
    {
      "cell_type": "code",
      "source": [
        "# Con los indices se puede tomar solo una seccion (slicing) de la cadena\n",
        "Name[0:6]"
      ],
      "metadata": {
        "colab": {
          "base_uri": "https://localhost:8080/",
          "height": 36
        },
        "id": "GRM3tjIMmGja",
        "outputId": "47d9f646-eb0c-4b89-d202-91305068473b"
      },
      "execution_count": null,
      "outputs": [
        {
          "output_type": "execute_result",
          "data": {
            "text/plain": [
              "'Michae'"
            ],
            "application/vnd.google.colaboratory.intrinsic+json": {
              "type": "string"
            }
          },
          "metadata": {},
          "execution_count": 30
        }
      ]
    },
    {
      "cell_type": "code",
      "source": [
        "# Seccion de la cadena\n",
        "Name[8:13]"
      ],
      "metadata": {
        "colab": {
          "base_uri": "https://localhost:8080/",
          "height": 36
        },
        "id": "qPdsE9htmagp",
        "outputId": "f2882a09-e165-4e03-8f77-ba4db6aee8d3"
      },
      "execution_count": null,
      "outputs": [
        {
          "output_type": "execute_result",
          "data": {
            "text/plain": [
              "'Jacks'"
            ],
            "application/vnd.google.colaboratory.intrinsic+json": {
              "type": "string"
            }
          },
          "metadata": {},
          "execution_count": 31
        }
      ]
    },
    {
      "cell_type": "code",
      "source": [
        "# Se pueden tomar cada cierto (stride) numero de elementos, en este caso cada 3 elementos\n",
        "Name[::3]"
      ],
      "metadata": {
        "colab": {
          "base_uri": "https://localhost:8080/",
          "height": 36
        },
        "id": "FthMXTMDmqLR",
        "outputId": "7c0437cf-300c-406d-b1f6-757448bde285"
      },
      "execution_count": null,
      "outputs": [
        {
          "output_type": "execute_result",
          "data": {
            "text/plain": [
              "'Mhlas'"
            ],
            "application/vnd.google.colaboratory.intrinsic+json": {
              "type": "string"
            }
          },
          "metadata": {},
          "execution_count": 34
        }
      ]
    },
    {
      "cell_type": "code",
      "source": [
        "# Se pueden combinar el slicing con el stride.\n",
        "Name[0:5:2]"
      ],
      "metadata": {
        "colab": {
          "base_uri": "https://localhost:8080/",
          "height": 36
        },
        "id": "xDzl3UKunPFS",
        "outputId": "41536db7-3c9c-4c9c-b68a-b1772b74789e"
      },
      "execution_count": null,
      "outputs": [
        {
          "output_type": "execute_result",
          "data": {
            "text/plain": [
              "'Mca'"
            ],
            "application/vnd.google.colaboratory.intrinsic+json": {
              "type": "string"
            }
          },
          "metadata": {},
          "execution_count": 36
        }
      ]
    },
    {
      "cell_type": "code",
      "source": [
        "# Concatenar dos cadenas\n",
        "Statement = Name + ' is the best'\n",
        "Statement"
      ],
      "metadata": {
        "colab": {
          "base_uri": "https://localhost:8080/",
          "height": 36
        },
        "id": "0clAxQfHnw7E",
        "outputId": "c6744aec-0c97-4a5b-907a-cc1ea2515524"
      },
      "execution_count": null,
      "outputs": [
        {
          "output_type": "execute_result",
          "data": {
            "text/plain": [
              "'Michael Jackson is the best'"
            ],
            "application/vnd.google.colaboratory.intrinsic+json": {
              "type": "string"
            }
          },
          "metadata": {},
          "execution_count": 37
        }
      ]
    },
    {
      "cell_type": "code",
      "source": [
        "# Multiplicando la cadena se imprime la cantidad de veces deseada\n",
        "3*Statement"
      ],
      "metadata": {
        "colab": {
          "base_uri": "https://localhost:8080/",
          "height": 55
        },
        "id": "KCvTcVN4n7ub",
        "outputId": "686133e3-1270-40f8-f9df-7b0466512374"
      },
      "execution_count": null,
      "outputs": [
        {
          "output_type": "execute_result",
          "data": {
            "text/plain": [
              "'Michael Jackson is the bestMichael Jackson is the bestMichael Jackson is the best'"
            ],
            "application/vnd.google.colaboratory.intrinsic+json": {
              "type": "string"
            }
          },
          "metadata": {},
          "execution_count": 38
        }
      ]
    },
    {
      "cell_type": "code",
      "source": [
        "# Se puede extender la cadena contatenandola\n",
        "Name = \"Michael Jackson\"\n",
        "Name = Name + ' is the best'\n",
        "Name"
      ],
      "metadata": {
        "colab": {
          "base_uri": "https://localhost:8080/",
          "height": 36
        },
        "id": "4vp79Q3BoNrz",
        "outputId": "b15a0a92-27ad-40ce-f633-ccfa2af10dbf"
      },
      "execution_count": null,
      "outputs": [
        {
          "output_type": "execute_result",
          "data": {
            "text/plain": [
              "'Michael Jackson is the best'"
            ],
            "application/vnd.google.colaboratory.intrinsic+json": {
              "type": "string"
            }
          },
          "metadata": {},
          "execution_count": 39
        }
      ]
    },
    {
      "cell_type": "code",
      "source": [
        "# Salto de linea\n",
        "print(\"Michael \\nJackson\")"
      ],
      "metadata": {
        "colab": {
          "base_uri": "https://localhost:8080/"
        },
        "id": "pJXdFeCnp7o_",
        "outputId": "276a9c72-763d-47c7-c03d-a64cb2c55aa5"
      },
      "execution_count": null,
      "outputs": [
        {
          "output_type": "stream",
          "name": "stdout",
          "text": [
            "Michael \n",
            "Jackson\n"
          ]
        }
      ]
    },
    {
      "cell_type": "code",
      "source": [
        "# Espacio de tabulacion\n",
        "print(\"Michael \\tJackson\")"
      ],
      "metadata": {
        "colab": {
          "base_uri": "https://localhost:8080/"
        },
        "id": "3eNPcun7qO7g",
        "outputId": "3ab521ac-e252-4c62-c55d-9efb48849c0f"
      },
      "execution_count": null,
      "outputs": [
        {
          "output_type": "stream",
          "name": "stdout",
          "text": [
            "Michael \tJackson\n"
          ]
        }
      ]
    },
    {
      "cell_type": "code",
      "source": [
        "# Para usar la barra invertida\n",
        "print(\"Michael \\\\ Jackson\")"
      ],
      "metadata": {
        "colab": {
          "base_uri": "https://localhost:8080/"
        },
        "id": "PvfOqJaSqU-A",
        "outputId": "cee52304-affe-40e7-d646-d1f956b97c16"
      },
      "execution_count": null,
      "outputs": [
        {
          "output_type": "stream",
          "name": "stdout",
          "text": [
            "Michael \\ Jackson\n"
          ]
        }
      ]
    },
    {
      "cell_type": "code",
      "source": [
        "# Otra alternativa\n",
        "print(r\"Michael \\ Jackson\")"
      ],
      "metadata": {
        "colab": {
          "base_uri": "https://localhost:8080/"
        },
        "id": "RRJydvvhqbkC",
        "outputId": "83d6d760-f1f9-4bb5-9a83-6d2a94e5dc89"
      },
      "execution_count": null,
      "outputs": [
        {
          "output_type": "stream",
          "name": "stdout",
          "text": [
            "Michael \\ Jackson\n"
          ]
        }
      ]
    },
    {
      "cell_type": "markdown",
      "source": [
        "#Operaciones de cadenas"
      ],
      "metadata": {
        "id": "k3QEXZ0vquqY"
      }
    },
    {
      "cell_type": "code",
      "source": [
        "A = 'Thriller is the sixth studio album'\n",
        "print('Before upper:'+ A)\n",
        "B = A.upper()\n",
        "print('After upper:', B)"
      ],
      "metadata": {
        "colab": {
          "base_uri": "https://localhost:8080/"
        },
        "id": "FbiqVvetqi4A",
        "outputId": "d725443c-568e-4ecf-b7e3-249369f73f3a"
      },
      "execution_count": null,
      "outputs": [
        {
          "output_type": "stream",
          "name": "stdout",
          "text": [
            "Before upper:Thriller is the sixth studio album\n",
            "After upper: THRILLER IS THE SIXTH STUDIO ALBUM\n"
          ]
        }
      ]
    },
    {
      "cell_type": "code",
      "source": [
        "# Remplazar la cadena anterior por una nueva\n",
        "A = 'Michael Jackson is the best'\n",
        "B = A.replace('Michael', 'Janet')\n",
        "B"
      ],
      "metadata": {
        "colab": {
          "base_uri": "https://localhost:8080/",
          "height": 36
        },
        "id": "rbszJwNyrDkK",
        "outputId": "b41b57fe-b100-46d2-b057-615dda68bd3e"
      },
      "execution_count": null,
      "outputs": [
        {
          "output_type": "execute_result",
          "data": {
            "text/plain": [
              "'Janet Jackson is the best'"
            ],
            "application/vnd.google.colaboratory.intrinsic+json": {
              "type": "string"
            }
          },
          "metadata": {},
          "execution_count": 49
        }
      ]
    },
    {
      "cell_type": "code",
      "source": [
        "# Encontrar subcadena. (Si no la encutnra no genera errores, arroja -1)\n",
        "Name = 'Michael Jackson'\n",
        "Name.find('Jack')"
      ],
      "metadata": {
        "colab": {
          "base_uri": "https://localhost:8080/"
        },
        "id": "AEtWyi0UrPDi",
        "outputId": "3b13f503-47ab-4ade-a876-eee532804e54"
      },
      "execution_count": null,
      "outputs": [
        {
          "output_type": "execute_result",
          "data": {
            "text/plain": [
              "8"
            ]
          },
          "metadata": {},
          "execution_count": 57
        }
      ]
    },
    {
      "cell_type": "markdown",
      "source": [
        "#PRUEBA"
      ],
      "metadata": {
        "id": "0IEM1tsXsGCU"
      }
    },
    {
      "cell_type": "code",
      "source": [
        "##¿Cual es el valor de la variable A después de ejecutar el siguiente código?\n",
        "A = \"1\"\n",
        "#La variable A guarda el valor \"1\"\n",
        "##¿Cual es el valor de la variable B después de ejecutar el siguiente código?\n",
        "B = \"2\"\n",
        "#La variable B guarda el valor \"2\"\n",
        "##¿Cual es el valor de la variable C después de ejecutar el siguiente código?\n",
        "C = A + B\n",
        "#Como la variables son textos, queda 12\n",
        "##En la variable D haz uso del slicing para imprimir solo los primeros tres elementos:\n",
        "D = \"ABCDEFG\"\n",
        "D[0:3]\n",
        "#Primeros 3 elementos\n",
        "##Imprime una barra invertida:\n",
        "print(\"\\\\\")\n",
        "#Barra invertida\n",
        "##Usa un valor de stride de 2 para imprimir cada segundo elemento de la cadena E:\n",
        "E = 'clocrkr1e1c1t'\n",
        "E[::2]\n",
        "#Cada segundo elemento\n",
        "##Imprime una barra invertida:\n",
        "F = \"You are wrong\"\n",
        "F.upper()\n",
        "#En mayusculas\n",
        "F.capitalize()\n",
        "#Primera letra en mayuscula\n",
        "F.title()\n",
        "#Primera letra de cada palabra en mayuscula\n",
        "##En la variable G, encuentra el primer índice de la sub-cadena snow:\n",
        "G = \"Mary had a little lamb Little lamb, little lamb Mary had a little lamb \\\n",
        "Its fleece was white as snow And everywhere that Mary went Mary went, Mary went \\\n",
        "Everywhere that Mary went The lamb was sure to go\"\n",
        "G.find('snow')\n",
        "#La palabra snow empieza en el indice 95\n",
        "##En la variable G, reemplaza la sub-cadena Mary con Bob:\n",
        "G = G.replace('Mary', 'Bob')\n",
        "#\"Mary\" remplazada por \"Bob\" en toda la cadena"
      ],
      "metadata": {
        "id": "J6obAH9krakj",
        "colab": {
          "base_uri": "https://localhost:8080/"
        },
        "outputId": "1807a306-b425-4d2e-e86c-10cb16d52962"
      },
      "execution_count": 5,
      "outputs": [
        {
          "output_type": "stream",
          "name": "stdout",
          "text": [
            "\\\n"
          ]
        }
      ]
    }
  ]
}